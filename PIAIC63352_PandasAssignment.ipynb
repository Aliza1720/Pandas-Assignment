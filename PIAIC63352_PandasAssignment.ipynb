{
 "cells": [
  {
   "cell_type": "code",
   "execution_count": 9,
   "metadata": {
    "id": "6-KDlppz7GJQ"
   },
   "outputs": [],
   "source": [
    "import pandas as pd\n",
    "import numpy as np \n",
    "import matplotlib.pyplot as plt\n",
    "from glob import glob"
   ]
  },
  {
   "cell_type": "markdown",
   "metadata": {
    "id": "heWyXa7_BkBe"
   },
   "source": [
    "# **Part1**"
   ]
  },
  {
   "cell_type": "markdown",
   "metadata": {
    "id": "EIs3tKm_C_qQ"
   },
   "source": [
    "Inspect the Data!\n",
    "1.\n",
    "The first visualization your boss wants you to make is a scatterplot that shows average income in a state vs proportion of women in that state.\n",
    "\n",
    "Open some of the census csv files in the navigator. How are they named? What kind of information do they hold? Will they help us make this graph?\n"
   ]
  },
  {
   "cell_type": "code",
   "execution_count": 10,
   "metadata": {
    "id": "EAL8k_nYBiml"
   },
   "outputs": [
    {
     "data": {
      "text/html": [
       "<div>\n",
       "<style scoped>\n",
       "    .dataframe tbody tr th:only-of-type {\n",
       "        vertical-align: middle;\n",
       "    }\n",
       "\n",
       "    .dataframe tbody tr th {\n",
       "        vertical-align: top;\n",
       "    }\n",
       "\n",
       "    .dataframe thead th {\n",
       "        text-align: right;\n",
       "    }\n",
       "</style>\n",
       "<table border=\"1\" class=\"dataframe\">\n",
       "  <thead>\n",
       "    <tr style=\"text-align: right;\">\n",
       "      <th></th>\n",
       "      <th>Unnamed: 0</th>\n",
       "      <th>State</th>\n",
       "      <th>TotalPop</th>\n",
       "      <th>Hispanic</th>\n",
       "      <th>White</th>\n",
       "      <th>Black</th>\n",
       "      <th>Native</th>\n",
       "      <th>Asian</th>\n",
       "      <th>Pacific</th>\n",
       "      <th>Income</th>\n",
       "      <th>GenderPop</th>\n",
       "    </tr>\n",
       "  </thead>\n",
       "  <tbody>\n",
       "    <tr>\n",
       "      <th>0</th>\n",
       "      <td>0</td>\n",
       "      <td>Colorado</td>\n",
       "      <td>5278906</td>\n",
       "      <td>20.78438003220608%</td>\n",
       "      <td>69.89557165861504%</td>\n",
       "      <td>3.546376811594201%</td>\n",
       "      <td>0.5738325281803548%</td>\n",
       "      <td>2.661996779388082%</td>\n",
       "      <td>NaN</td>\n",
       "      <td>$64657.801787164906</td>\n",
       "      <td>2648667M_2630239F</td>\n",
       "    </tr>\n",
       "    <tr>\n",
       "      <th>1</th>\n",
       "      <td>1</td>\n",
       "      <td>Connecticut</td>\n",
       "      <td>3593222</td>\n",
       "      <td>15.604830917874388%</td>\n",
       "      <td>67.6770531400966%</td>\n",
       "      <td>10.34806763285027%</td>\n",
       "      <td>0.12620772946859898%</td>\n",
       "      <td>4.021980676328502%</td>\n",
       "      <td>0.018599033816425123%</td>\n",
       "      <td>$76146.5605875153</td>\n",
       "      <td>1751607M_1841615F</td>\n",
       "    </tr>\n",
       "    <tr>\n",
       "      <th>2</th>\n",
       "      <td>2</td>\n",
       "      <td>Delaware</td>\n",
       "      <td>926454</td>\n",
       "      <td>8.82476635514019%</td>\n",
       "      <td>64.63271028037383%</td>\n",
       "      <td>20.743925233644834%</td>\n",
       "      <td>0.25981308411214965%</td>\n",
       "      <td>3.2686915887850483%</td>\n",
       "      <td>NaN</td>\n",
       "      <td>$61827.97663551402</td>\n",
       "      <td>448413M_478041F</td>\n",
       "    </tr>\n",
       "    <tr>\n",
       "      <th>3</th>\n",
       "      <td>3</td>\n",
       "      <td>District of Columbia</td>\n",
       "      <td>647484</td>\n",
       "      <td>9.165921787709499%</td>\n",
       "      <td>33.103910614525134%</td>\n",
       "      <td>51.77653631284915%</td>\n",
       "      <td>0.20055865921787713%</td>\n",
       "      <td>3.3832402234636865%</td>\n",
       "      <td>0.029608938547486034%</td>\n",
       "      <td>$75466.36363636363</td>\n",
       "      <td>306674M_340810F</td>\n",
       "    </tr>\n",
       "    <tr>\n",
       "      <th>4</th>\n",
       "      <td>4</td>\n",
       "      <td>Florida</td>\n",
       "      <td>19645772</td>\n",
       "      <td>21.3385426653884%</td>\n",
       "      <td>59.08374880153398%</td>\n",
       "      <td>15.165675934803444%</td>\n",
       "      <td>0.2104506232023015%</td>\n",
       "      <td>2.2831735378715257%</td>\n",
       "      <td>0.05151006711409391%</td>\n",
       "      <td>$50690.194986743794</td>\n",
       "      <td>9600009M_10045763F</td>\n",
       "    </tr>\n",
       "    <tr>\n",
       "      <th>5</th>\n",
       "      <td>5</td>\n",
       "      <td>Georgia</td>\n",
       "      <td>10006693</td>\n",
       "      <td>8.418242207460397%</td>\n",
       "      <td>54.28630556974962%</td>\n",
       "      <td>32.08829841594277%</td>\n",
       "      <td>0.18758303525804798%</td>\n",
       "      <td>3.0976494634644895%</td>\n",
       "      <td>0.046601941747572824%</td>\n",
       "      <td>$50811.08205128205</td>\n",
       "      <td>4883331M_5123362F</td>\n",
       "    </tr>\n",
       "  </tbody>\n",
       "</table>\n",
       "</div>"
      ],
      "text/plain": [
       "   Unnamed: 0                 State  TotalPop             Hispanic  \\\n",
       "0           0              Colorado   5278906   20.78438003220608%   \n",
       "1           1           Connecticut   3593222  15.604830917874388%   \n",
       "2           2              Delaware    926454    8.82476635514019%   \n",
       "3           3  District of Columbia    647484   9.165921787709499%   \n",
       "4           4               Florida  19645772    21.3385426653884%   \n",
       "5           5               Georgia  10006693   8.418242207460397%   \n",
       "\n",
       "                 White                Black                Native  \\\n",
       "0   69.89557165861504%   3.546376811594201%   0.5738325281803548%   \n",
       "1    67.6770531400966%   10.34806763285027%  0.12620772946859898%   \n",
       "2   64.63271028037383%  20.743925233644834%  0.25981308411214965%   \n",
       "3  33.103910614525134%   51.77653631284915%  0.20055865921787713%   \n",
       "4   59.08374880153398%  15.165675934803444%   0.2104506232023015%   \n",
       "5   54.28630556974962%   32.08829841594277%  0.18758303525804798%   \n",
       "\n",
       "                 Asian                Pacific               Income  \\\n",
       "0   2.661996779388082%                    NaN  $64657.801787164906   \n",
       "1   4.021980676328502%  0.018599033816425123%    $76146.5605875153   \n",
       "2  3.2686915887850483%                    NaN   $61827.97663551402   \n",
       "3  3.3832402234636865%  0.029608938547486034%   $75466.36363636363   \n",
       "4  2.2831735378715257%   0.05151006711409391%  $50690.194986743794   \n",
       "5  3.0976494634644895%  0.046601941747572824%   $50811.08205128205   \n",
       "\n",
       "            GenderPop  \n",
       "0   2648667M_2630239F  \n",
       "1   1751607M_1841615F  \n",
       "2     448413M_478041F  \n",
       "3     306674M_340810F  \n",
       "4  9600009M_10045763F  \n",
       "5   4883331M_5123362F  "
      ]
     },
     "execution_count": 10,
     "metadata": {},
     "output_type": "execute_result"
    }
   ],
   "source": [
    "states1 = pd.read_csv('states1.csv')\n",
    "states1"
   ]
  },
  {
   "cell_type": "markdown",
   "metadata": {
    "id": "EKeVsofQDJlq"
   },
   "source": [
    "2.\n",
    "It will be easier to inspect this data once we have it in a DataFrame. You can’t even call .head() on these csvs! How are you supposed to read them?\n",
    "\n",
    "Using glob, loop through the census files available and load them into DataFrames. Then, concatenate all of those DataFrames together into one DataFrame, called something like us_census.\n"
   ]
  },
  {
   "cell_type": "code",
   "execution_count": 11,
   "metadata": {
    "colab": {
     "base_uri": "https://localhost:8080/"
    },
    "id": "1SfJyO_GBiz_",
    "outputId": "874b75d7-2f64-4331-a0c2-c1116ede10ad"
   },
   "outputs": [],
   "source": [
    "data = glob('states*')\n",
    "us_census = pd.concat((pd.read_csv(file) for file in data), ignore_index=True)"
   ]
  },
  {
   "cell_type": "markdown",
   "metadata": {
    "id": "HwysgYeTEhPP"
   },
   "source": [
    "3.\n",
    "Look at the .columns and the .dtypes of the us_census DataFrame. Are those datatypes going to hinder you as you try to make histograms?"
   ]
  },
  {
   "cell_type": "code",
   "execution_count": 12,
   "metadata": {
    "colab": {
     "base_uri": "https://localhost:8080/"
    },
    "id": "geyBiR3XBi98",
    "outputId": "8c1eed48-fcf8-4af3-b527-274f51a35fca"
   },
   "outputs": [
    {
     "data": {
      "text/plain": [
       "Index(['Unnamed: 0', 'State', 'TotalPop', 'Hispanic', 'White', 'Black',\n",
       "       'Native', 'Asian', 'Pacific', 'Income', 'GenderPop'],\n",
       "      dtype='object')"
      ]
     },
     "execution_count": 12,
     "metadata": {},
     "output_type": "execute_result"
    }
   ],
   "source": [
    "us_census.columns"
   ]
  },
  {
   "cell_type": "code",
   "execution_count": 13,
   "metadata": {
    "colab": {
     "base_uri": "https://localhost:8080/"
    },
    "id": "5G47-ypYEjeG",
    "outputId": "95459c8e-63fb-490b-80ed-98f1bb49dabb"
   },
   "outputs": [
    {
     "data": {
      "text/plain": [
       "Unnamed: 0     int64\n",
       "State         object\n",
       "TotalPop       int64\n",
       "Hispanic      object\n",
       "White         object\n",
       "Black         object\n",
       "Native        object\n",
       "Asian         object\n",
       "Pacific       object\n",
       "Income        object\n",
       "GenderPop     object\n",
       "dtype: object"
      ]
     },
     "execution_count": 13,
     "metadata": {},
     "output_type": "execute_result"
    }
   ],
   "source": [
    " us_census.dtypes"
   ]
  },
  {
   "cell_type": "markdown",
   "metadata": {
    "id": "fvO1JOhmE5c-"
   },
   "source": [
    "4.\n",
    "Look at the .head() of the DataFrame so that you can understand why some of these dtypes are objects instead of integers or floats.\n",
    "\n",
    "Start to make a plan for how to convert these columns into the right types for manipulation.\n"
   ]
  },
  {
   "cell_type": "code",
   "execution_count": 14,
   "metadata": {
    "colab": {
     "base_uri": "https://localhost:8080/",
     "height": 292
    },
    "id": "-vuAFzUDEjfs",
    "outputId": "84a5f49f-7db9-490d-d28c-2a4fa64d4f5f"
   },
   "outputs": [
    {
     "data": {
      "text/html": [
       "<div>\n",
       "<style scoped>\n",
       "    .dataframe tbody tr th:only-of-type {\n",
       "        vertical-align: middle;\n",
       "    }\n",
       "\n",
       "    .dataframe tbody tr th {\n",
       "        vertical-align: top;\n",
       "    }\n",
       "\n",
       "    .dataframe thead th {\n",
       "        text-align: right;\n",
       "    }\n",
       "</style>\n",
       "<table border=\"1\" class=\"dataframe\">\n",
       "  <thead>\n",
       "    <tr style=\"text-align: right;\">\n",
       "      <th></th>\n",
       "      <th>Unnamed: 0</th>\n",
       "      <th>State</th>\n",
       "      <th>TotalPop</th>\n",
       "      <th>Hispanic</th>\n",
       "      <th>White</th>\n",
       "      <th>Black</th>\n",
       "      <th>Native</th>\n",
       "      <th>Asian</th>\n",
       "      <th>Pacific</th>\n",
       "      <th>Income</th>\n",
       "      <th>GenderPop</th>\n",
       "    </tr>\n",
       "  </thead>\n",
       "  <tbody>\n",
       "    <tr>\n",
       "      <th>0</th>\n",
       "      <td>0</td>\n",
       "      <td>Alabama</td>\n",
       "      <td>4830620</td>\n",
       "      <td>3.7516156462584975%</td>\n",
       "      <td>61.878656462585%</td>\n",
       "      <td>31.25297619047618%</td>\n",
       "      <td>0.4532312925170065%</td>\n",
       "      <td>1.0502551020408146%</td>\n",
       "      <td>0.03435374149659865%</td>\n",
       "      <td>$43296.35860306644</td>\n",
       "      <td>2341093M_2489527F</td>\n",
       "    </tr>\n",
       "    <tr>\n",
       "      <th>1</th>\n",
       "      <td>1</td>\n",
       "      <td>Alaska</td>\n",
       "      <td>733375</td>\n",
       "      <td>5.909580838323351%</td>\n",
       "      <td>60.910179640718574%</td>\n",
       "      <td>2.8485029940119775%</td>\n",
       "      <td>16.39101796407186%</td>\n",
       "      <td>5.450299401197604%</td>\n",
       "      <td>1.0586826347305378%</td>\n",
       "      <td>$70354.74390243902</td>\n",
       "      <td>384160M_349215F</td>\n",
       "    </tr>\n",
       "    <tr>\n",
       "      <th>2</th>\n",
       "      <td>2</td>\n",
       "      <td>Arizona</td>\n",
       "      <td>6641928</td>\n",
       "      <td>29.565921052631502%</td>\n",
       "      <td>57.120000000000026%</td>\n",
       "      <td>3.8509868421052658%</td>\n",
       "      <td>4.35506578947368%</td>\n",
       "      <td>2.876578947368419%</td>\n",
       "      <td>0.16763157894736833%</td>\n",
       "      <td>$54207.82095490716</td>\n",
       "      <td>3299088M_3342840F</td>\n",
       "    </tr>\n",
       "    <tr>\n",
       "      <th>3</th>\n",
       "      <td>3</td>\n",
       "      <td>Arkansas</td>\n",
       "      <td>2958208</td>\n",
       "      <td>6.215474452554738%</td>\n",
       "      <td>71.13781021897813%</td>\n",
       "      <td>18.968759124087573%</td>\n",
       "      <td>0.5229197080291965%</td>\n",
       "      <td>1.1423357664233578%</td>\n",
       "      <td>0.14686131386861315%</td>\n",
       "      <td>$41935.63396778917</td>\n",
       "      <td>1451913M_1506295F</td>\n",
       "    </tr>\n",
       "    <tr>\n",
       "      <th>4</th>\n",
       "      <td>4</td>\n",
       "      <td>California</td>\n",
       "      <td>38421464</td>\n",
       "      <td>37.291874687968054%</td>\n",
       "      <td>40.21578881677474%</td>\n",
       "      <td>5.677396405391911%</td>\n",
       "      <td>0.40529206190713685%</td>\n",
       "      <td>13.052234148776776%</td>\n",
       "      <td>0.35141038442336353%</td>\n",
       "      <td>$67264.78230266465</td>\n",
       "      <td>19087135M_19334329F</td>\n",
       "    </tr>\n",
       "  </tbody>\n",
       "</table>\n",
       "</div>"
      ],
      "text/plain": [
       "   Unnamed: 0       State  TotalPop             Hispanic                White  \\\n",
       "0           0     Alabama   4830620  3.7516156462584975%     61.878656462585%   \n",
       "1           1      Alaska    733375   5.909580838323351%  60.910179640718574%   \n",
       "2           2     Arizona   6641928  29.565921052631502%  57.120000000000026%   \n",
       "3           3    Arkansas   2958208   6.215474452554738%   71.13781021897813%   \n",
       "4           4  California  38421464  37.291874687968054%   40.21578881677474%   \n",
       "\n",
       "                 Black                Native                Asian  \\\n",
       "0   31.25297619047618%   0.4532312925170065%  1.0502551020408146%   \n",
       "1  2.8485029940119775%    16.39101796407186%   5.450299401197604%   \n",
       "2  3.8509868421052658%     4.35506578947368%   2.876578947368419%   \n",
       "3  18.968759124087573%   0.5229197080291965%  1.1423357664233578%   \n",
       "4   5.677396405391911%  0.40529206190713685%  13.052234148776776%   \n",
       "\n",
       "                Pacific              Income            GenderPop  \n",
       "0  0.03435374149659865%  $43296.35860306644    2341093M_2489527F  \n",
       "1   1.0586826347305378%  $70354.74390243902      384160M_349215F  \n",
       "2  0.16763157894736833%  $54207.82095490716    3299088M_3342840F  \n",
       "3  0.14686131386861315%  $41935.63396778917    1451913M_1506295F  \n",
       "4  0.35141038442336353%  $67264.78230266465  19087135M_19334329F  "
      ]
     },
     "execution_count": 14,
     "metadata": {},
     "output_type": "execute_result"
    }
   ],
   "source": [
    "us_census.head()"
   ]
  },
  {
   "cell_type": "markdown",
   "metadata": {
    "id": "dgnT-sLmE4JL"
   },
   "source": [
    "5.\n",
    "Use regex to turn the Income column into a format that is ready for conversion into a numerical type.\n"
   ]
  },
  {
   "cell_type": "code",
   "execution_count": 15,
   "metadata": {
    "id": "WH_mZN_fEjj8"
   },
   "outputs": [],
   "source": [
    "us_census[\"Income\"] = us_census[\"Income\"].str.replace(\"$\",\"\",regex = True)\n",
    "us_census[\"Income\"] = pd.to_numeric(us_census[\"Income\"])"
   ]
  },
  {
   "cell_type": "code",
   "execution_count": 16,
   "metadata": {
    "colab": {
     "base_uri": "https://localhost:8080/"
    },
    "id": "3dnZjgxVIfLT",
    "outputId": "fe6952a7-c9bf-407a-a0c2-63d9b0e25965"
   },
   "outputs": [
    {
     "data": {
      "text/plain": [
       "Unnamed: 0      int64\n",
       "State          object\n",
       "TotalPop        int64\n",
       "Hispanic       object\n",
       "White          object\n",
       "Black          object\n",
       "Native         object\n",
       "Asian          object\n",
       "Pacific        object\n",
       "Income        float64\n",
       "GenderPop      object\n",
       "dtype: object"
      ]
     },
     "execution_count": 16,
     "metadata": {},
     "output_type": "execute_result"
    }
   ],
   "source": [
    "us_census.dtypes"
   ]
  },
  {
   "cell_type": "markdown",
   "metadata": {
    "id": "4Hl94itxGJp5"
   },
   "source": [
    "6.\n",
    "Look at the GenderPop column. We are going to want to separate this into two columns, the Men column, and the Women column.\n",
    "\n",
    "Split the column into those two new columns using str.split and separating out those results.\n"
   ]
  },
  {
   "cell_type": "code",
   "execution_count": 17,
   "metadata": {
    "id": "ySjBvNPzEjlb"
   },
   "outputs": [],
   "source": [
    "us_census[[\"the Men\",\"the Women\"]] = us_census[\"GenderPop\"].str.split(\"_\",expand = True)"
   ]
  },
  {
   "cell_type": "code",
   "execution_count": 18,
   "metadata": {
    "colab": {
     "base_uri": "https://localhost:8080/",
     "height": 292
    },
    "id": "r_blCSNnEjp3",
    "outputId": "d9ed3cc2-a26e-4d48-bdd6-985a6b97d91e"
   },
   "outputs": [
    {
     "data": {
      "text/html": [
       "<div>\n",
       "<style scoped>\n",
       "    .dataframe tbody tr th:only-of-type {\n",
       "        vertical-align: middle;\n",
       "    }\n",
       "\n",
       "    .dataframe tbody tr th {\n",
       "        vertical-align: top;\n",
       "    }\n",
       "\n",
       "    .dataframe thead th {\n",
       "        text-align: right;\n",
       "    }\n",
       "</style>\n",
       "<table border=\"1\" class=\"dataframe\">\n",
       "  <thead>\n",
       "    <tr style=\"text-align: right;\">\n",
       "      <th></th>\n",
       "      <th>Unnamed: 0</th>\n",
       "      <th>State</th>\n",
       "      <th>TotalPop</th>\n",
       "      <th>Hispanic</th>\n",
       "      <th>White</th>\n",
       "      <th>Black</th>\n",
       "      <th>Native</th>\n",
       "      <th>Asian</th>\n",
       "      <th>Pacific</th>\n",
       "      <th>Income</th>\n",
       "      <th>GenderPop</th>\n",
       "      <th>the Men</th>\n",
       "      <th>the Women</th>\n",
       "    </tr>\n",
       "  </thead>\n",
       "  <tbody>\n",
       "    <tr>\n",
       "      <th>0</th>\n",
       "      <td>0</td>\n",
       "      <td>Alabama</td>\n",
       "      <td>4830620</td>\n",
       "      <td>3.7516156462584975%</td>\n",
       "      <td>61.878656462585%</td>\n",
       "      <td>31.25297619047618%</td>\n",
       "      <td>0.4532312925170065%</td>\n",
       "      <td>1.0502551020408146%</td>\n",
       "      <td>0.03435374149659865%</td>\n",
       "      <td>43296.358603</td>\n",
       "      <td>2341093M_2489527F</td>\n",
       "      <td>2341093M</td>\n",
       "      <td>2489527F</td>\n",
       "    </tr>\n",
       "    <tr>\n",
       "      <th>1</th>\n",
       "      <td>1</td>\n",
       "      <td>Alaska</td>\n",
       "      <td>733375</td>\n",
       "      <td>5.909580838323351%</td>\n",
       "      <td>60.910179640718574%</td>\n",
       "      <td>2.8485029940119775%</td>\n",
       "      <td>16.39101796407186%</td>\n",
       "      <td>5.450299401197604%</td>\n",
       "      <td>1.0586826347305378%</td>\n",
       "      <td>70354.743902</td>\n",
       "      <td>384160M_349215F</td>\n",
       "      <td>384160M</td>\n",
       "      <td>349215F</td>\n",
       "    </tr>\n",
       "    <tr>\n",
       "      <th>2</th>\n",
       "      <td>2</td>\n",
       "      <td>Arizona</td>\n",
       "      <td>6641928</td>\n",
       "      <td>29.565921052631502%</td>\n",
       "      <td>57.120000000000026%</td>\n",
       "      <td>3.8509868421052658%</td>\n",
       "      <td>4.35506578947368%</td>\n",
       "      <td>2.876578947368419%</td>\n",
       "      <td>0.16763157894736833%</td>\n",
       "      <td>54207.820955</td>\n",
       "      <td>3299088M_3342840F</td>\n",
       "      <td>3299088M</td>\n",
       "      <td>3342840F</td>\n",
       "    </tr>\n",
       "    <tr>\n",
       "      <th>3</th>\n",
       "      <td>3</td>\n",
       "      <td>Arkansas</td>\n",
       "      <td>2958208</td>\n",
       "      <td>6.215474452554738%</td>\n",
       "      <td>71.13781021897813%</td>\n",
       "      <td>18.968759124087573%</td>\n",
       "      <td>0.5229197080291965%</td>\n",
       "      <td>1.1423357664233578%</td>\n",
       "      <td>0.14686131386861315%</td>\n",
       "      <td>41935.633968</td>\n",
       "      <td>1451913M_1506295F</td>\n",
       "      <td>1451913M</td>\n",
       "      <td>1506295F</td>\n",
       "    </tr>\n",
       "    <tr>\n",
       "      <th>4</th>\n",
       "      <td>4</td>\n",
       "      <td>California</td>\n",
       "      <td>38421464</td>\n",
       "      <td>37.291874687968054%</td>\n",
       "      <td>40.21578881677474%</td>\n",
       "      <td>5.677396405391911%</td>\n",
       "      <td>0.40529206190713685%</td>\n",
       "      <td>13.052234148776776%</td>\n",
       "      <td>0.35141038442336353%</td>\n",
       "      <td>67264.782303</td>\n",
       "      <td>19087135M_19334329F</td>\n",
       "      <td>19087135M</td>\n",
       "      <td>19334329F</td>\n",
       "    </tr>\n",
       "  </tbody>\n",
       "</table>\n",
       "</div>"
      ],
      "text/plain": [
       "   Unnamed: 0       State  TotalPop             Hispanic                White  \\\n",
       "0           0     Alabama   4830620  3.7516156462584975%     61.878656462585%   \n",
       "1           1      Alaska    733375   5.909580838323351%  60.910179640718574%   \n",
       "2           2     Arizona   6641928  29.565921052631502%  57.120000000000026%   \n",
       "3           3    Arkansas   2958208   6.215474452554738%   71.13781021897813%   \n",
       "4           4  California  38421464  37.291874687968054%   40.21578881677474%   \n",
       "\n",
       "                 Black                Native                Asian  \\\n",
       "0   31.25297619047618%   0.4532312925170065%  1.0502551020408146%   \n",
       "1  2.8485029940119775%    16.39101796407186%   5.450299401197604%   \n",
       "2  3.8509868421052658%     4.35506578947368%   2.876578947368419%   \n",
       "3  18.968759124087573%   0.5229197080291965%  1.1423357664233578%   \n",
       "4   5.677396405391911%  0.40529206190713685%  13.052234148776776%   \n",
       "\n",
       "                Pacific        Income            GenderPop    the Men  \\\n",
       "0  0.03435374149659865%  43296.358603    2341093M_2489527F   2341093M   \n",
       "1   1.0586826347305378%  70354.743902      384160M_349215F    384160M   \n",
       "2  0.16763157894736833%  54207.820955    3299088M_3342840F   3299088M   \n",
       "3  0.14686131386861315%  41935.633968    1451913M_1506295F   1451913M   \n",
       "4  0.35141038442336353%  67264.782303  19087135M_19334329F  19087135M   \n",
       "\n",
       "   the Women  \n",
       "0   2489527F  \n",
       "1    349215F  \n",
       "2   3342840F  \n",
       "3   1506295F  \n",
       "4  19334329F  "
      ]
     },
     "execution_count": 18,
     "metadata": {},
     "output_type": "execute_result"
    }
   ],
   "source": [
    "us_census.head()"
   ]
  },
  {
   "cell_type": "markdown",
   "metadata": {
    "id": "HfmMAlrxJWhv"
   },
   "source": [
    "7.Convert both of the columns into numerical datatypes.\n",
    "\n",
    "There is still an M or an F character in each entry! We should remove those before we convert."
   ]
  },
  {
   "cell_type": "code",
   "execution_count": 19,
   "metadata": {
    "id": "wHvvm8KrBjK6"
   },
   "outputs": [],
   "source": [
    "us_census[\"the Men\"] = us_census[\"the Men\"].str.replace(\"M\",\"\")\n",
    "us_census[\"the Men\"] = pd.to_numeric(us_census[\"the Men\"])"
   ]
  },
  {
   "cell_type": "code",
   "execution_count": 20,
   "metadata": {
    "id": "Uld8ogreJ_U7"
   },
   "outputs": [],
   "source": [
    "us_census[\"the Women\"] = us_census[\"the Women\"].str.replace(\"F\",\"\")\n",
    "us_census[\"the Women\"] = pd.to_numeric(us_census[\"the Women\"])"
   ]
  },
  {
   "cell_type": "markdown",
   "metadata": {
    "id": "FiFx-qsxPIfv"
   },
   "source": [
    "8.\n",
    "Now you should have the columns you need to make the graph and make sure your boss does not slam a ruler angrily on your desk because you’ve wasted your whole day cleaning your data with no results to show!\n",
    "\n",
    "Use matplotlib to make a scatterplot!\n",
    "\n",
    "plt.scatter(the_women_column, the_income_column) \n",
    "Remember to call plt.show() to see the graph!\n"
   ]
  },
  {
   "cell_type": "code",
   "execution_count": 21,
   "metadata": {
    "colab": {
     "base_uri": "https://localhost:8080/",
     "height": 278
    },
    "id": "LcN571cOO6_s",
    "outputId": "5902e995-4bf3-4100-ffcd-7e57f4d9b538"
   },
   "outputs": [
    {
     "data": {
      "image/png": "[encoded data removed]",
      "text/plain": [
       "<Figure size 432x288 with 1 Axes>"
      ]
     },
     "metadata": {
      "needs_background": "light"
     },
     "output_type": "display_data"
    }
   ],
   "source": [
    "plt.scatter(us_census[\"the Women\"], us_census[\"Income\"])\n",
    "plt.show()"
   ]
  },
  {
   "cell_type": "markdown",
   "metadata": {
    "id": "3UDU4iWyPqJb"
   },
   "source": [
    "9.\n",
    "Did you get an error? These monstrous csv files probably have nan values in them! Print out your column with the number of women per state to see.\n",
    "\n",
    "We can fill in those nans by using pandas’ .fillna() function.\n",
    "\n",
    "You have the TotalPop per state, and you have the Men per state. As an estimate for the nan values in the Women column, you could use the TotalPop of that state minus the Men for that state.\n",
    "\n",
    "Print out the Women column after filling the nan values to see if it worked!\n"
   ]
  },
  {
   "cell_type": "code",
   "execution_count": 22,
   "metadata": {
    "id": "VvXIiMywUalT"
   },
   "outputs": [],
   "source": [
    "us_census[\"the Women\"] = us_census[\"the Women\"].fillna(us_census[\"TotalPop\"]-us_census[\"the Men\"]).astype(int)\n"
   ]
  },
  {
   "cell_type": "markdown",
   "metadata": {
    "id": "_WycEM7FVHqw"
   },
   "source": [
    "10.\n",
    "We forgot to check for duplicates! Use .duplicated() on your census DataFrame to see if we have duplicate rows in there.\n"
   ]
  },
  {
   "cell_type": "code",
   "execution_count": 23,
   "metadata": {
    "colab": {
     "base_uri": "https://localhost:8080/"
    },
    "id": "JGzTWrRhUTAO",
    "outputId": "19f8749b-2a4e-43d9-a2c3-47f1f963196e"
   },
   "outputs": [
    {
     "data": {
      "text/plain": [
       "0     False\n",
       "1     False\n",
       "2     False\n",
       "3     False\n",
       "4     False\n",
       "5     False\n",
       "6     False\n",
       "7     False\n",
       "8     False\n",
       "9     False\n",
       "10    False\n",
       "11    False\n",
       "12    False\n",
       "13    False\n",
       "14    False\n",
       "15    False\n",
       "16    False\n",
       "17    False\n",
       "18    False\n",
       "19    False\n",
       "20    False\n",
       "21    False\n",
       "22    False\n",
       "23    False\n",
       "24    False\n",
       "25    False\n",
       "26    False\n",
       "27    False\n",
       "28    False\n",
       "29    False\n",
       "30    False\n",
       "31    False\n",
       "32    False\n",
       "33    False\n",
       "34    False\n",
       "35    False\n",
       "36    False\n",
       "37    False\n",
       "38    False\n",
       "39    False\n",
       "40    False\n",
       "41    False\n",
       "42    False\n",
       "43    False\n",
       "44    False\n",
       "45    False\n",
       "46    False\n",
       "47    False\n",
       "48    False\n",
       "49    False\n",
       "50    False\n",
       "51    False\n",
       "52    False\n",
       "53    False\n",
       "54    False\n",
       "55    False\n",
       "56    False\n",
       "57    False\n",
       "58    False\n",
       "59    False\n",
       "dtype: bool"
      ]
     },
     "execution_count": 23,
     "metadata": {},
     "output_type": "execute_result"
    }
   ],
   "source": [
    "us_census.duplicated()"
   ]
  },
  {
   "cell_type": "markdown",
   "metadata": {
    "id": "ijDWO9yRVPkN"
   },
   "source": [
    "11.\n",
    "Drop those duplicates using the .drop_duplicates() function.\n"
   ]
  },
  {
   "cell_type": "code",
   "execution_count": 24,
   "metadata": {
    "id": "jJ_7nwQ8O7FD"
   },
   "outputs": [],
   "source": [
    "us_census.drop_duplicates(inplace = True)"
   ]
  },
  {
   "cell_type": "markdown",
   "metadata": {
    "id": "x98Mv5jxVaap"
   },
   "source": [
    "12.Make the scatterplot again. Now, it should be perfect! Your job is secure, for now.\n",
    "\n"
   ]
  },
  {
   "cell_type": "code",
   "execution_count": 25,
   "metadata": {
    "colab": {
     "base_uri": "https://localhost:8080/",
     "height": 278
    },
    "id": "g_R90lYsO7HL",
    "outputId": "226230d8-e365-4210-ac42-2c3d669e0838"
   },
   "outputs": [
    {
     "data": {
      "image/png": "[encoded data removed]",
      "text/plain": [
       "<Figure size 432x288 with 1 Axes>"
      ]
     },
     "metadata": {
      "needs_background": "light"
     },
     "output_type": "display_data"
    }
   ],
   "source": [
    "plt.scatter(us_census[\"the Women\"], us_census[\"Income\"])\n",
    "plt.show()"
   ]
  },
  {
   "cell_type": "markdown",
   "metadata": {
    "id": "TZDo5JTjVstP"
   },
   "source": [
    "13.\n",
    "Now, your boss wants you to make a bunch of histograms out of the race data that you have. Look at the .columns again to see what the race categories are.\n"
   ]
  },
  {
   "cell_type": "code",
   "execution_count": 26,
   "metadata": {
    "colab": {
     "base_uri": "https://localhost:8080/"
    },
    "id": "ufF2mUPiO7KR",
    "outputId": "4a44a904-5a07-463b-f276-09e443b68228"
   },
   "outputs": [
    {
     "data": {
      "text/plain": [
       "Index(['Unnamed: 0', 'State', 'TotalPop', 'Hispanic', 'White', 'Black',\n",
       "       'Native', 'Asian', 'Pacific', 'Income', 'GenderPop', 'the Men',\n",
       "       'the Women'],\n",
       "      dtype='object')"
      ]
     },
     "execution_count": 26,
     "metadata": {},
     "output_type": "execute_result"
    }
   ],
   "source": [
    "us_census.columns"
   ]
  },
  {
   "cell_type": "markdown",
   "metadata": {
    "id": "twEc4k4pY3Vx"
   },
   "source": [
    "14.\n",
    "Try to make a histogram for each one!\n",
    "\n",
    "You will have to get the columns into numerical format, and those percentage signs will have to go.\n",
    "\n",
    "Don’t forget to fill the nan values with something that makes sense! You probably dropped the duplicate rows when making your last graph, but it couldn’t hurt to check for duplicates again.\n",
    "\n"
   ]
  },
  {
   "cell_type": "code",
   "execution_count": 27,
   "metadata": {
    "id": "UGK0ltPIO7MM"
   },
   "outputs": [],
   "source": [
    "def remove_sign(Name):\n",
    "  us_census[Name] = us_census[Name].str.replace(\"%\",\"\").astype(float)\n",
    "remove_sign(\"Hispanic\")\n",
    "remove_sign(\"White\")\n",
    "remove_sign(\"Black\")\n",
    "remove_sign(\"Native\")\n",
    "remove_sign(\"Asian\")            \n",
    "remove_sign(\"Pacific\")"
   ]
  },
  {
   "cell_type": "code",
   "execution_count": 28,
   "metadata": {
    "colab": {
     "base_uri": "https://localhost:8080/"
    },
    "id": "qpsXJFH_ZEe5",
    "outputId": "b0dfe82c-3532-47e2-f091-e85803b32f06"
   },
   "outputs": [
    {
     "data": {
      "text/plain": [
       "Unnamed: 0    0\n",
       "State         0\n",
       "TotalPop      0\n",
       "Hispanic      0\n",
       "White         0\n",
       "Black         0\n",
       "Native        0\n",
       "Asian         0\n",
       "Pacific       5\n",
       "Income        0\n",
       "GenderPop     0\n",
       "the Men       0\n",
       "the Women     0\n",
       "dtype: int64"
      ]
     },
     "execution_count": 28,
     "metadata": {},
     "output_type": "execute_result"
    }
   ],
   "source": [
    "us_census.isnull().sum()"
   ]
  },
  {
   "cell_type": "code",
   "execution_count": 29,
   "metadata": {
    "id": "9KE9OvrQZONz"
   },
   "outputs": [],
   "source": [
    "def fill(Name):\n",
    "  us_census[Name] = us_census[Name].fillna(us_census[Name].mean())\n",
    "fill(\"Pacific\")"
   ]
  },
  {
   "cell_type": "code",
   "execution_count": 35,
   "metadata": {
    "colab": {
     "base_uri": "https://localhost:8080/"
    },
    "id": "_FhPB9W4ZpHl",
    "outputId": "637eb3a9-385c-42ca-ef16-476c039d2262"
   },
   "outputs": [
    {
     "data": {
      "text/plain": [
       "0     False\n",
       "1     False\n",
       "2     False\n",
       "3     False\n",
       "4     False\n",
       "5     False\n",
       "6     False\n",
       "7     False\n",
       "8     False\n",
       "9     False\n",
       "10    False\n",
       "11    False\n",
       "12    False\n",
       "13    False\n",
       "14    False\n",
       "15    False\n",
       "16    False\n",
       "17    False\n",
       "18    False\n",
       "19    False\n",
       "20    False\n",
       "21    False\n",
       "22    False\n",
       "23    False\n",
       "24    False\n",
       "25    False\n",
       "26    False\n",
       "27    False\n",
       "28    False\n",
       "29    False\n",
       "30    False\n",
       "31    False\n",
       "32    False\n",
       "33    False\n",
       "34    False\n",
       "35    False\n",
       "36    False\n",
       "37    False\n",
       "38    False\n",
       "39    False\n",
       "40    False\n",
       "41    False\n",
       "42    False\n",
       "43    False\n",
       "44    False\n",
       "45    False\n",
       "46    False\n",
       "47    False\n",
       "48    False\n",
       "49    False\n",
       "50    False\n",
       "51    False\n",
       "52    False\n",
       "53    False\n",
       "54    False\n",
       "55    False\n",
       "56    False\n",
       "57    False\n",
       "58    False\n",
       "59    False\n",
       "dtype: bool"
      ]
     },
     "execution_count": 35,
     "metadata": {
      "tags": []
     },
     "output_type": "execute_result"
    }
   ],
   "source": [
    "us_census.duplicated()"
   ]
  },
  {
   "cell_type": "code",
   "execution_count": 30,
   "metadata": {
    "colab": {
     "base_uri": "https://localhost:8080/",
     "height": 316
    },
    "id": "JekEhdS9O7PQ",
    "outputId": "e6d74c16-57ae-4759-fa99-dfcb3e893e9c"
   },
   "outputs": [
    {
     "data": {
      "text/plain": [
       "(array([1., 0., 1., 0., 1., 0., 1., 0., 1., 1.]),\n",
       " array([0. , 0.5, 1. , 1.5, 2. , 2.5, 3. , 3.5, 4. , 4.5, 5. ]),\n",
       " <a list of 10 Patch objects>)"
      ]
     },
     "execution_count": 30,
     "metadata": {},
     "output_type": "execute_result"
    },
    {
     "data": {
      "image/png": "[encoded data removed]",
      "text/plain": [
       "<Figure size 432x288 with 1 Axes>"
      ]
     },
     "metadata": {
      "needs_background": "light"
     },
     "output_type": "display_data"
    }
   ],
   "source": [
    "x = [\"Hispanic\",\"White\",\"Black\",\"Native\",\"Asian\",\"Pacific\"]\n",
    "plt.hist(x,bins=10)"
   ]
  },
  {
   "cell_type": "markdown",
   "metadata": {
    "id": "vxljKepSADCv"
   },
   "source": [
    "# ***Part2***"
   ]
  },
  {
   "cell_type": "markdown",
   "metadata": {
    "id": "zzIChdUz7_9r"
   },
   "source": [
    "1.\n",
    "Data for all of the locations of Petal Power is in the file inventory.csv. Load the data into a DataFrame called inventory."
   ]
  },
  {
   "cell_type": "code",
   "execution_count": 31,
   "metadata": {
    "id": "7m-zWfg88AoJ"
   },
   "outputs": [],
   "source": [
    "inventory = pd.read_csv(\"inventory.csv\")"
   ]
  },
  {
   "cell_type": "markdown",
   "metadata": {
    "id": "P2gY9pBR8JiW"
   },
   "source": [
    "2.\n",
    "Inspect the first 10 rows of inventory."
   ]
  },
  {
   "cell_type": "code",
   "execution_count": 32,
   "metadata": {
    "colab": {
     "base_uri": "https://localhost:8080/",
     "height": 359
    },
    "id": "0JmuLxRz8LVN",
    "outputId": "14bdf591-7eb9-44d2-d18e-a6b491d1b721"
   },
   "outputs": [
    {
     "data": {
      "text/html": [
       "<div>\n",
       "<style scoped>\n",
       "    .dataframe tbody tr th:only-of-type {\n",
       "        vertical-align: middle;\n",
       "    }\n",
       "\n",
       "    .dataframe tbody tr th {\n",
       "        vertical-align: top;\n",
       "    }\n",
       "\n",
       "    .dataframe thead th {\n",
       "        text-align: right;\n",
       "    }\n",
       "</style>\n",
       "<table border=\"1\" class=\"dataframe\">\n",
       "  <thead>\n",
       "    <tr style=\"text-align: right;\">\n",
       "      <th></th>\n",
       "      <th>location</th>\n",
       "      <th>product_type</th>\n",
       "      <th>product_description</th>\n",
       "      <th>quantity</th>\n",
       "      <th>price</th>\n",
       "    </tr>\n",
       "  </thead>\n",
       "  <tbody>\n",
       "    <tr>\n",
       "      <th>0</th>\n",
       "      <td>Staten Island</td>\n",
       "      <td>seeds</td>\n",
       "      <td>daisy</td>\n",
       "      <td>4</td>\n",
       "      <td>6.99</td>\n",
       "    </tr>\n",
       "    <tr>\n",
       "      <th>1</th>\n",
       "      <td>Staten Island</td>\n",
       "      <td>seeds</td>\n",
       "      <td>calla lily</td>\n",
       "      <td>46</td>\n",
       "      <td>19.99</td>\n",
       "    </tr>\n",
       "    <tr>\n",
       "      <th>2</th>\n",
       "      <td>Staten Island</td>\n",
       "      <td>seeds</td>\n",
       "      <td>tomato</td>\n",
       "      <td>85</td>\n",
       "      <td>13.99</td>\n",
       "    </tr>\n",
       "    <tr>\n",
       "      <th>3</th>\n",
       "      <td>Staten Island</td>\n",
       "      <td>garden tools</td>\n",
       "      <td>rake</td>\n",
       "      <td>4</td>\n",
       "      <td>13.99</td>\n",
       "    </tr>\n",
       "    <tr>\n",
       "      <th>4</th>\n",
       "      <td>Staten Island</td>\n",
       "      <td>garden tools</td>\n",
       "      <td>wheelbarrow</td>\n",
       "      <td>0</td>\n",
       "      <td>89.99</td>\n",
       "    </tr>\n",
       "    <tr>\n",
       "      <th>5</th>\n",
       "      <td>Staten Island</td>\n",
       "      <td>garden tools</td>\n",
       "      <td>spade</td>\n",
       "      <td>93</td>\n",
       "      <td>19.99</td>\n",
       "    </tr>\n",
       "    <tr>\n",
       "      <th>6</th>\n",
       "      <td>Staten Island</td>\n",
       "      <td>pest_control</td>\n",
       "      <td>insect killer</td>\n",
       "      <td>74</td>\n",
       "      <td>12.99</td>\n",
       "    </tr>\n",
       "    <tr>\n",
       "      <th>7</th>\n",
       "      <td>Staten Island</td>\n",
       "      <td>pest_control</td>\n",
       "      <td>weed killer</td>\n",
       "      <td>8</td>\n",
       "      <td>23.99</td>\n",
       "    </tr>\n",
       "    <tr>\n",
       "      <th>8</th>\n",
       "      <td>Staten Island</td>\n",
       "      <td>planter</td>\n",
       "      <td>20 inch terracotta planter</td>\n",
       "      <td>0</td>\n",
       "      <td>17.99</td>\n",
       "    </tr>\n",
       "    <tr>\n",
       "      <th>9</th>\n",
       "      <td>Staten Island</td>\n",
       "      <td>planter</td>\n",
       "      <td>8 inch plastic planter</td>\n",
       "      <td>53</td>\n",
       "      <td>3.99</td>\n",
       "    </tr>\n",
       "  </tbody>\n",
       "</table>\n",
       "</div>"
      ],
      "text/plain": [
       "        location  product_type         product_description  quantity  price\n",
       "0  Staten Island         seeds                       daisy         4   6.99\n",
       "1  Staten Island         seeds                  calla lily        46  19.99\n",
       "2  Staten Island         seeds                      tomato        85  13.99\n",
       "3  Staten Island  garden tools                        rake         4  13.99\n",
       "4  Staten Island  garden tools                 wheelbarrow         0  89.99\n",
       "5  Staten Island  garden tools                       spade        93  19.99\n",
       "6  Staten Island  pest_control               insect killer        74  12.99\n",
       "7  Staten Island  pest_control                 weed killer         8  23.99\n",
       "8  Staten Island       planter  20 inch terracotta planter         0  17.99\n",
       "9  Staten Island       planter      8 inch plastic planter        53   3.99"
      ]
     },
     "execution_count": 32,
     "metadata": {},
     "output_type": "execute_result"
    }
   ],
   "source": [
    "inventory.head(10)"
   ]
  },
  {
   "cell_type": "markdown",
   "metadata": {
    "id": "q37PmVXN8Wlc"
   },
   "source": [
    "3.\n",
    "The first 10 rows represent data from your Staten Island location. Select these rows and save them to staten_island."
   ]
  },
  {
   "cell_type": "code",
   "execution_count": 33,
   "metadata": {
    "colab": {
     "base_uri": "https://localhost:8080/",
     "height": 359
    },
    "id": "s2Ia6Nsb8OWe",
    "outputId": "01cbd797-4327-4451-bd00-bb878e0ee000"
   },
   "outputs": [
    {
     "data": {
      "text/html": [
       "<div>\n",
       "<style scoped>\n",
       "    .dataframe tbody tr th:only-of-type {\n",
       "        vertical-align: middle;\n",
       "    }\n",
       "\n",
       "    .dataframe tbody tr th {\n",
       "        vertical-align: top;\n",
       "    }\n",
       "\n",
       "    .dataframe thead th {\n",
       "        text-align: right;\n",
       "    }\n",
       "</style>\n",
       "<table border=\"1\" class=\"dataframe\">\n",
       "  <thead>\n",
       "    <tr style=\"text-align: right;\">\n",
       "      <th></th>\n",
       "      <th>location</th>\n",
       "      <th>product_type</th>\n",
       "      <th>product_description</th>\n",
       "      <th>quantity</th>\n",
       "      <th>price</th>\n",
       "    </tr>\n",
       "  </thead>\n",
       "  <tbody>\n",
       "    <tr>\n",
       "      <th>0</th>\n",
       "      <td>Staten Island</td>\n",
       "      <td>seeds</td>\n",
       "      <td>daisy</td>\n",
       "      <td>4</td>\n",
       "      <td>6.99</td>\n",
       "    </tr>\n",
       "    <tr>\n",
       "      <th>1</th>\n",
       "      <td>Staten Island</td>\n",
       "      <td>seeds</td>\n",
       "      <td>calla lily</td>\n",
       "      <td>46</td>\n",
       "      <td>19.99</td>\n",
       "    </tr>\n",
       "    <tr>\n",
       "      <th>2</th>\n",
       "      <td>Staten Island</td>\n",
       "      <td>seeds</td>\n",
       "      <td>tomato</td>\n",
       "      <td>85</td>\n",
       "      <td>13.99</td>\n",
       "    </tr>\n",
       "    <tr>\n",
       "      <th>3</th>\n",
       "      <td>Staten Island</td>\n",
       "      <td>garden tools</td>\n",
       "      <td>rake</td>\n",
       "      <td>4</td>\n",
       "      <td>13.99</td>\n",
       "    </tr>\n",
       "    <tr>\n",
       "      <th>4</th>\n",
       "      <td>Staten Island</td>\n",
       "      <td>garden tools</td>\n",
       "      <td>wheelbarrow</td>\n",
       "      <td>0</td>\n",
       "      <td>89.99</td>\n",
       "    </tr>\n",
       "    <tr>\n",
       "      <th>5</th>\n",
       "      <td>Staten Island</td>\n",
       "      <td>garden tools</td>\n",
       "      <td>spade</td>\n",
       "      <td>93</td>\n",
       "      <td>19.99</td>\n",
       "    </tr>\n",
       "    <tr>\n",
       "      <th>6</th>\n",
       "      <td>Staten Island</td>\n",
       "      <td>pest_control</td>\n",
       "      <td>insect killer</td>\n",
       "      <td>74</td>\n",
       "      <td>12.99</td>\n",
       "    </tr>\n",
       "    <tr>\n",
       "      <th>7</th>\n",
       "      <td>Staten Island</td>\n",
       "      <td>pest_control</td>\n",
       "      <td>weed killer</td>\n",
       "      <td>8</td>\n",
       "      <td>23.99</td>\n",
       "    </tr>\n",
       "    <tr>\n",
       "      <th>8</th>\n",
       "      <td>Staten Island</td>\n",
       "      <td>planter</td>\n",
       "      <td>20 inch terracotta planter</td>\n",
       "      <td>0</td>\n",
       "      <td>17.99</td>\n",
       "    </tr>\n",
       "    <tr>\n",
       "      <th>9</th>\n",
       "      <td>Staten Island</td>\n",
       "      <td>planter</td>\n",
       "      <td>8 inch plastic planter</td>\n",
       "      <td>53</td>\n",
       "      <td>3.99</td>\n",
       "    </tr>\n",
       "  </tbody>\n",
       "</table>\n",
       "</div>"
      ],
      "text/plain": [
       "        location  product_type         product_description  quantity  price\n",
       "0  Staten Island         seeds                       daisy         4   6.99\n",
       "1  Staten Island         seeds                  calla lily        46  19.99\n",
       "2  Staten Island         seeds                      tomato        85  13.99\n",
       "3  Staten Island  garden tools                        rake         4  13.99\n",
       "4  Staten Island  garden tools                 wheelbarrow         0  89.99\n",
       "5  Staten Island  garden tools                       spade        93  19.99\n",
       "6  Staten Island  pest_control               insect killer        74  12.99\n",
       "7  Staten Island  pest_control                 weed killer         8  23.99\n",
       "8  Staten Island       planter  20 inch terracotta planter         0  17.99\n",
       "9  Staten Island       planter      8 inch plastic planter        53   3.99"
      ]
     },
     "execution_count": 33,
     "metadata": {},
     "output_type": "execute_result"
    }
   ],
   "source": [
    "staten_island = inventory.iloc[:10,:]\n",
    "staten_island"
   ]
  },
  {
   "cell_type": "markdown",
   "metadata": {
    "id": "OFkdMR978qeA"
   },
   "source": [
    "4.\n",
    "A customer just emailed you asking what products are sold at your Staten Island location. Select the column product_description from staten_island and save it to the variable product_request."
   ]
  },
  {
   "cell_type": "code",
   "execution_count": 34,
   "metadata": {
    "colab": {
     "base_uri": "https://localhost:8080/"
    },
    "id": "5_QUUfgi8iy8",
    "outputId": "fced07ec-79c9-40f0-aac4-3e56dc621a2e"
   },
   "outputs": [
    {
     "data": {
      "text/plain": [
       "0                         daisy\n",
       "1                    calla lily\n",
       "2                        tomato\n",
       "3                          rake\n",
       "4                   wheelbarrow\n",
       "5                         spade\n",
       "6                 insect killer\n",
       "7                   weed killer\n",
       "8    20 inch terracotta planter\n",
       "9        8 inch plastic planter\n",
       "Name: product_description, dtype: object"
      ]
     },
     "execution_count": 34,
     "metadata": {},
     "output_type": "execute_result"
    }
   ],
   "source": [
    "product_request = staten_island[\"product_description\"]\n",
    "product_request"
   ]
  },
  {
   "cell_type": "markdown",
   "metadata": {
    "id": "WPcqLKba9IKL"
   },
   "source": [
    "5.\n",
    "Another customer emails to ask what types of seeds are sold at the Brooklyn location.\n",
    "\n",
    "Select all rows where location is equal to Brooklyn and product_type is equal to seeds and save them to the variable seed_request"
   ]
  },
  {
   "cell_type": "code",
   "execution_count": 35,
   "metadata": {
    "colab": {
     "base_uri": "https://localhost:8080/",
     "height": 142
    },
    "id": "1hWDs_tk8_Dh",
    "outputId": "238d600d-4ac8-42f0-b566-684c68087962"
   },
   "outputs": [
    {
     "data": {
      "text/html": [
       "<div>\n",
       "<style scoped>\n",
       "    .dataframe tbody tr th:only-of-type {\n",
       "        vertical-align: middle;\n",
       "    }\n",
       "\n",
       "    .dataframe tbody tr th {\n",
       "        vertical-align: top;\n",
       "    }\n",
       "\n",
       "    .dataframe thead th {\n",
       "        text-align: right;\n",
       "    }\n",
       "</style>\n",
       "<table border=\"1\" class=\"dataframe\">\n",
       "  <thead>\n",
       "    <tr style=\"text-align: right;\">\n",
       "      <th></th>\n",
       "      <th>location</th>\n",
       "      <th>product_type</th>\n",
       "      <th>product_description</th>\n",
       "      <th>quantity</th>\n",
       "      <th>price</th>\n",
       "    </tr>\n",
       "  </thead>\n",
       "  <tbody>\n",
       "    <tr>\n",
       "      <th>10</th>\n",
       "      <td>Brooklyn</td>\n",
       "      <td>seeds</td>\n",
       "      <td>daisy</td>\n",
       "      <td>50</td>\n",
       "      <td>6.99</td>\n",
       "    </tr>\n",
       "    <tr>\n",
       "      <th>11</th>\n",
       "      <td>Brooklyn</td>\n",
       "      <td>seeds</td>\n",
       "      <td>calla lily</td>\n",
       "      <td>0</td>\n",
       "      <td>19.99</td>\n",
       "    </tr>\n",
       "    <tr>\n",
       "      <th>12</th>\n",
       "      <td>Brooklyn</td>\n",
       "      <td>seeds</td>\n",
       "      <td>tomato</td>\n",
       "      <td>0</td>\n",
       "      <td>13.99</td>\n",
       "    </tr>\n",
       "  </tbody>\n",
       "</table>\n",
       "</div>"
      ],
      "text/plain": [
       "    location product_type product_description  quantity  price\n",
       "10  Brooklyn        seeds               daisy        50   6.99\n",
       "11  Brooklyn        seeds          calla lily         0  19.99\n",
       "12  Brooklyn        seeds              tomato         0  13.99"
      ]
     },
     "execution_count": 35,
     "metadata": {},
     "output_type": "execute_result"
    }
   ],
   "source": [
    "seed_request = inventory.loc[(inventory[\"location\"] == \"Brooklyn\")& (inventory[\"product_type\"] == \"seeds\")]\n",
    "seed_request"
   ]
  },
  {
   "cell_type": "markdown",
   "metadata": {
    "id": "0YLLneEj-BjS"
   },
   "source": [
    "Inventory\n",
    "6.\n",
    "Add a column to inventory called in_stock which is True if quantity is greater than 0 and False if quantity equals 0."
   ]
  },
  {
   "cell_type": "code",
   "execution_count": 36,
   "metadata": {
    "colab": {
     "base_uri": "https://localhost:8080/",
     "height": 359
    },
    "id": "-I_eRZ-G9rfO",
    "outputId": "5bbf1d73-c299-40f6-82f4-b658c4116480"
   },
   "outputs": [
    {
     "data": {
      "text/html": [
       "<div>\n",
       "<style scoped>\n",
       "    .dataframe tbody tr th:only-of-type {\n",
       "        vertical-align: middle;\n",
       "    }\n",
       "\n",
       "    .dataframe tbody tr th {\n",
       "        vertical-align: top;\n",
       "    }\n",
       "\n",
       "    .dataframe thead th {\n",
       "        text-align: right;\n",
       "    }\n",
       "</style>\n",
       "<table border=\"1\" class=\"dataframe\">\n",
       "  <thead>\n",
       "    <tr style=\"text-align: right;\">\n",
       "      <th></th>\n",
       "      <th>location</th>\n",
       "      <th>product_type</th>\n",
       "      <th>product_description</th>\n",
       "      <th>quantity</th>\n",
       "      <th>price</th>\n",
       "      <th>in_stock</th>\n",
       "    </tr>\n",
       "  </thead>\n",
       "  <tbody>\n",
       "    <tr>\n",
       "      <th>0</th>\n",
       "      <td>Staten Island</td>\n",
       "      <td>seeds</td>\n",
       "      <td>daisy</td>\n",
       "      <td>4</td>\n",
       "      <td>6.99</td>\n",
       "      <td>True</td>\n",
       "    </tr>\n",
       "    <tr>\n",
       "      <th>1</th>\n",
       "      <td>Staten Island</td>\n",
       "      <td>seeds</td>\n",
       "      <td>calla lily</td>\n",
       "      <td>46</td>\n",
       "      <td>19.99</td>\n",
       "      <td>True</td>\n",
       "    </tr>\n",
       "    <tr>\n",
       "      <th>2</th>\n",
       "      <td>Staten Island</td>\n",
       "      <td>seeds</td>\n",
       "      <td>tomato</td>\n",
       "      <td>85</td>\n",
       "      <td>13.99</td>\n",
       "      <td>True</td>\n",
       "    </tr>\n",
       "    <tr>\n",
       "      <th>3</th>\n",
       "      <td>Staten Island</td>\n",
       "      <td>garden tools</td>\n",
       "      <td>rake</td>\n",
       "      <td>4</td>\n",
       "      <td>13.99</td>\n",
       "      <td>True</td>\n",
       "    </tr>\n",
       "    <tr>\n",
       "      <th>4</th>\n",
       "      <td>Staten Island</td>\n",
       "      <td>garden tools</td>\n",
       "      <td>wheelbarrow</td>\n",
       "      <td>0</td>\n",
       "      <td>89.99</td>\n",
       "      <td>False</td>\n",
       "    </tr>\n",
       "    <tr>\n",
       "      <th>5</th>\n",
       "      <td>Staten Island</td>\n",
       "      <td>garden tools</td>\n",
       "      <td>spade</td>\n",
       "      <td>93</td>\n",
       "      <td>19.99</td>\n",
       "      <td>True</td>\n",
       "    </tr>\n",
       "    <tr>\n",
       "      <th>6</th>\n",
       "      <td>Staten Island</td>\n",
       "      <td>pest_control</td>\n",
       "      <td>insect killer</td>\n",
       "      <td>74</td>\n",
       "      <td>12.99</td>\n",
       "      <td>True</td>\n",
       "    </tr>\n",
       "    <tr>\n",
       "      <th>7</th>\n",
       "      <td>Staten Island</td>\n",
       "      <td>pest_control</td>\n",
       "      <td>weed killer</td>\n",
       "      <td>8</td>\n",
       "      <td>23.99</td>\n",
       "      <td>True</td>\n",
       "    </tr>\n",
       "    <tr>\n",
       "      <th>8</th>\n",
       "      <td>Staten Island</td>\n",
       "      <td>planter</td>\n",
       "      <td>20 inch terracotta planter</td>\n",
       "      <td>0</td>\n",
       "      <td>17.99</td>\n",
       "      <td>False</td>\n",
       "    </tr>\n",
       "    <tr>\n",
       "      <th>9</th>\n",
       "      <td>Staten Island</td>\n",
       "      <td>planter</td>\n",
       "      <td>8 inch plastic planter</td>\n",
       "      <td>53</td>\n",
       "      <td>3.99</td>\n",
       "      <td>True</td>\n",
       "    </tr>\n",
       "  </tbody>\n",
       "</table>\n",
       "</div>"
      ],
      "text/plain": [
       "        location  product_type         product_description  quantity  price  \\\n",
       "0  Staten Island         seeds                       daisy         4   6.99   \n",
       "1  Staten Island         seeds                  calla lily        46  19.99   \n",
       "2  Staten Island         seeds                      tomato        85  13.99   \n",
       "3  Staten Island  garden tools                        rake         4  13.99   \n",
       "4  Staten Island  garden tools                 wheelbarrow         0  89.99   \n",
       "5  Staten Island  garden tools                       spade        93  19.99   \n",
       "6  Staten Island  pest_control               insect killer        74  12.99   \n",
       "7  Staten Island  pest_control                 weed killer         8  23.99   \n",
       "8  Staten Island       planter  20 inch terracotta planter         0  17.99   \n",
       "9  Staten Island       planter      8 inch plastic planter        53   3.99   \n",
       "\n",
       "  in_stock  \n",
       "0     True  \n",
       "1     True  \n",
       "2     True  \n",
       "3     True  \n",
       "4    False  \n",
       "5     True  \n",
       "6     True  \n",
       "7     True  \n",
       "8    False  \n",
       "9     True  "
      ]
     },
     "execution_count": 36,
     "metadata": {},
     "output_type": "execute_result"
    }
   ],
   "source": [
    "a = lambda x: \"True\" if x>0 else \"False\"\n",
    "inventory[\"in_stock\"] = inventory.quantity.apply(a) \n",
    "inventory.head(10)"
   ]
  },
  {
   "cell_type": "markdown",
   "metadata": {
    "id": "13Kwv0cG-o1V"
   },
   "source": [
    "7.\n",
    "Petal Power wants to know how valuable their current inventory is.\n",
    "\n",
    "Create a column called total_value that is equal to price multiplied by quantity."
   ]
  },
  {
   "cell_type": "code",
   "execution_count": 37,
   "metadata": {
    "colab": {
     "base_uri": "https://localhost:8080/",
     "height": 204
    },
    "id": "ibL0Da4B-Zw_",
    "outputId": "369b61c2-cf3d-48e8-9e88-78b4cb86c9ff"
   },
   "outputs": [
    {
     "data": {
      "text/html": [
       "<div>\n",
       "<style scoped>\n",
       "    .dataframe tbody tr th:only-of-type {\n",
       "        vertical-align: middle;\n",
       "    }\n",
       "\n",
       "    .dataframe tbody tr th {\n",
       "        vertical-align: top;\n",
       "    }\n",
       "\n",
       "    .dataframe thead th {\n",
       "        text-align: right;\n",
       "    }\n",
       "</style>\n",
       "<table border=\"1\" class=\"dataframe\">\n",
       "  <thead>\n",
       "    <tr style=\"text-align: right;\">\n",
       "      <th></th>\n",
       "      <th>location</th>\n",
       "      <th>product_type</th>\n",
       "      <th>product_description</th>\n",
       "      <th>quantity</th>\n",
       "      <th>price</th>\n",
       "      <th>in_stock</th>\n",
       "      <th>total_value</th>\n",
       "    </tr>\n",
       "  </thead>\n",
       "  <tbody>\n",
       "    <tr>\n",
       "      <th>0</th>\n",
       "      <td>Staten Island</td>\n",
       "      <td>seeds</td>\n",
       "      <td>daisy</td>\n",
       "      <td>4</td>\n",
       "      <td>6.99</td>\n",
       "      <td>True</td>\n",
       "      <td>27.96</td>\n",
       "    </tr>\n",
       "    <tr>\n",
       "      <th>1</th>\n",
       "      <td>Staten Island</td>\n",
       "      <td>seeds</td>\n",
       "      <td>calla lily</td>\n",
       "      <td>46</td>\n",
       "      <td>19.99</td>\n",
       "      <td>True</td>\n",
       "      <td>919.54</td>\n",
       "    </tr>\n",
       "    <tr>\n",
       "      <th>2</th>\n",
       "      <td>Staten Island</td>\n",
       "      <td>seeds</td>\n",
       "      <td>tomato</td>\n",
       "      <td>85</td>\n",
       "      <td>13.99</td>\n",
       "      <td>True</td>\n",
       "      <td>1189.15</td>\n",
       "    </tr>\n",
       "    <tr>\n",
       "      <th>3</th>\n",
       "      <td>Staten Island</td>\n",
       "      <td>garden tools</td>\n",
       "      <td>rake</td>\n",
       "      <td>4</td>\n",
       "      <td>13.99</td>\n",
       "      <td>True</td>\n",
       "      <td>55.96</td>\n",
       "    </tr>\n",
       "    <tr>\n",
       "      <th>4</th>\n",
       "      <td>Staten Island</td>\n",
       "      <td>garden tools</td>\n",
       "      <td>wheelbarrow</td>\n",
       "      <td>0</td>\n",
       "      <td>89.99</td>\n",
       "      <td>False</td>\n",
       "      <td>0.00</td>\n",
       "    </tr>\n",
       "  </tbody>\n",
       "</table>\n",
       "</div>"
      ],
      "text/plain": [
       "        location  product_type product_description  quantity  price in_stock  \\\n",
       "0  Staten Island         seeds               daisy         4   6.99     True   \n",
       "1  Staten Island         seeds          calla lily        46  19.99     True   \n",
       "2  Staten Island         seeds              tomato        85  13.99     True   \n",
       "3  Staten Island  garden tools                rake         4  13.99     True   \n",
       "4  Staten Island  garden tools         wheelbarrow         0  89.99    False   \n",
       "\n",
       "   total_value  \n",
       "0        27.96  \n",
       "1       919.54  \n",
       "2      1189.15  \n",
       "3        55.96  \n",
       "4         0.00  "
      ]
     },
     "execution_count": 37,
     "metadata": {},
     "output_type": "execute_result"
    }
   ],
   "source": [
    "inventory[\"total_value\"] = inventory[\"price\"] * inventory[\"quantity\"]\n",
    "inventory.head()"
   ]
  },
  {
   "cell_type": "markdown",
   "metadata": {
    "id": "D1aw9xNN-67H"
   },
   "source": [
    "8.\n",
    "The Marketing department wants a complete description of each product for their catalog.\n",
    "\n",
    "The following lambda function combines product_type and product_description into a single string:\n",
    "\n",
    "combine_lambda = lambda row: \\\n",
    "    '{} - {}'.format(row.product_type,\n",
    "                     row.product_description)\n",
    "Paste this function into script.py.\n"
   ]
  },
  {
   "cell_type": "code",
   "execution_count": 38,
   "metadata": {
    "id": "uWQ_9qW1-2uT"
   },
   "outputs": [],
   "source": [
    "combine_lambda = lambda row: '{} - {}'.format(row.product_type, row.product_description)"
   ]
  },
  {
   "cell_type": "markdown",
   "metadata": {
    "id": "_9VD1PMh_N8U"
   },
   "source": [
    "\n",
    "9.\n",
    "Using combine_lambda, create a new column in inventory called full_description that has the complete description of each product."
   ]
  },
  {
   "cell_type": "code",
   "execution_count": 39,
   "metadata": {
    "id": "-BSvDc1I_OXU"
   },
   "outputs": [],
   "source": [
    "inventory[\"full_description\"] = combine_lambda(inventory)"
   ]
  },
  {
   "cell_type": "code",
   "execution_count": 40,
   "metadata": {
    "id": "ilZSD1uD_in6"
   },
   "outputs": [
    {
     "data": {
      "text/html": [
       "<div>\n",
       "<style scoped>\n",
       "    .dataframe tbody tr th:only-of-type {\n",
       "        vertical-align: middle;\n",
       "    }\n",
       "\n",
       "    .dataframe tbody tr th {\n",
       "        vertical-align: top;\n",
       "    }\n",
       "\n",
       "    .dataframe thead th {\n",
       "        text-align: right;\n",
       "    }\n",
       "</style>\n",
       "<table border=\"1\" class=\"dataframe\">\n",
       "  <thead>\n",
       "    <tr style=\"text-align: right;\">\n",
       "      <th></th>\n",
       "      <th>location</th>\n",
       "      <th>product_type</th>\n",
       "      <th>product_description</th>\n",
       "      <th>quantity</th>\n",
       "      <th>price</th>\n",
       "      <th>in_stock</th>\n",
       "      <th>total_value</th>\n",
       "      <th>full_description</th>\n",
       "    </tr>\n",
       "  </thead>\n",
       "  <tbody>\n",
       "    <tr>\n",
       "      <th>0</th>\n",
       "      <td>Staten Island</td>\n",
       "      <td>seeds</td>\n",
       "      <td>daisy</td>\n",
       "      <td>4</td>\n",
       "      <td>6.99</td>\n",
       "      <td>True</td>\n",
       "      <td>27.96</td>\n",
       "      <td>0            seeds\\n1            seeds\\n2     ...</td>\n",
       "    </tr>\n",
       "    <tr>\n",
       "      <th>1</th>\n",
       "      <td>Staten Island</td>\n",
       "      <td>seeds</td>\n",
       "      <td>calla lily</td>\n",
       "      <td>46</td>\n",
       "      <td>19.99</td>\n",
       "      <td>True</td>\n",
       "      <td>919.54</td>\n",
       "      <td>0            seeds\\n1            seeds\\n2     ...</td>\n",
       "    </tr>\n",
       "    <tr>\n",
       "      <th>2</th>\n",
       "      <td>Staten Island</td>\n",
       "      <td>seeds</td>\n",
       "      <td>tomato</td>\n",
       "      <td>85</td>\n",
       "      <td>13.99</td>\n",
       "      <td>True</td>\n",
       "      <td>1189.15</td>\n",
       "      <td>0            seeds\\n1            seeds\\n2     ...</td>\n",
       "    </tr>\n",
       "    <tr>\n",
       "      <th>3</th>\n",
       "      <td>Staten Island</td>\n",
       "      <td>garden tools</td>\n",
       "      <td>rake</td>\n",
       "      <td>4</td>\n",
       "      <td>13.99</td>\n",
       "      <td>True</td>\n",
       "      <td>55.96</td>\n",
       "      <td>0            seeds\\n1            seeds\\n2     ...</td>\n",
       "    </tr>\n",
       "    <tr>\n",
       "      <th>4</th>\n",
       "      <td>Staten Island</td>\n",
       "      <td>garden tools</td>\n",
       "      <td>wheelbarrow</td>\n",
       "      <td>0</td>\n",
       "      <td>89.99</td>\n",
       "      <td>False</td>\n",
       "      <td>0.00</td>\n",
       "      <td>0            seeds\\n1            seeds\\n2     ...</td>\n",
       "    </tr>\n",
       "    <tr>\n",
       "      <th>5</th>\n",
       "      <td>Staten Island</td>\n",
       "      <td>garden tools</td>\n",
       "      <td>spade</td>\n",
       "      <td>93</td>\n",
       "      <td>19.99</td>\n",
       "      <td>True</td>\n",
       "      <td>1859.07</td>\n",
       "      <td>0            seeds\\n1            seeds\\n2     ...</td>\n",
       "    </tr>\n",
       "    <tr>\n",
       "      <th>6</th>\n",
       "      <td>Staten Island</td>\n",
       "      <td>pest_control</td>\n",
       "      <td>insect killer</td>\n",
       "      <td>74</td>\n",
       "      <td>12.99</td>\n",
       "      <td>True</td>\n",
       "      <td>961.26</td>\n",
       "      <td>0            seeds\\n1            seeds\\n2     ...</td>\n",
       "    </tr>\n",
       "    <tr>\n",
       "      <th>7</th>\n",
       "      <td>Staten Island</td>\n",
       "      <td>pest_control</td>\n",
       "      <td>weed killer</td>\n",
       "      <td>8</td>\n",
       "      <td>23.99</td>\n",
       "      <td>True</td>\n",
       "      <td>191.92</td>\n",
       "      <td>0            seeds\\n1            seeds\\n2     ...</td>\n",
       "    </tr>\n",
       "    <tr>\n",
       "      <th>8</th>\n",
       "      <td>Staten Island</td>\n",
       "      <td>planter</td>\n",
       "      <td>20 inch terracotta planter</td>\n",
       "      <td>0</td>\n",
       "      <td>17.99</td>\n",
       "      <td>False</td>\n",
       "      <td>0.00</td>\n",
       "      <td>0            seeds\\n1            seeds\\n2     ...</td>\n",
       "    </tr>\n",
       "    <tr>\n",
       "      <th>9</th>\n",
       "      <td>Staten Island</td>\n",
       "      <td>planter</td>\n",
       "      <td>8 inch plastic planter</td>\n",
       "      <td>53</td>\n",
       "      <td>3.99</td>\n",
       "      <td>True</td>\n",
       "      <td>211.47</td>\n",
       "      <td>0            seeds\\n1            seeds\\n2     ...</td>\n",
       "    </tr>\n",
       "  </tbody>\n",
       "</table>\n",
       "</div>"
      ],
      "text/plain": [
       "        location  product_type         product_description  quantity  price  \\\n",
       "0  Staten Island         seeds                       daisy         4   6.99   \n",
       "1  Staten Island         seeds                  calla lily        46  19.99   \n",
       "2  Staten Island         seeds                      tomato        85  13.99   \n",
       "3  Staten Island  garden tools                        rake         4  13.99   \n",
       "4  Staten Island  garden tools                 wheelbarrow         0  89.99   \n",
       "5  Staten Island  garden tools                       spade        93  19.99   \n",
       "6  Staten Island  pest_control               insect killer        74  12.99   \n",
       "7  Staten Island  pest_control                 weed killer         8  23.99   \n",
       "8  Staten Island       planter  20 inch terracotta planter         0  17.99   \n",
       "9  Staten Island       planter      8 inch plastic planter        53   3.99   \n",
       "\n",
       "  in_stock  total_value                                   full_description  \n",
       "0     True        27.96  0            seeds\\n1            seeds\\n2     ...  \n",
       "1     True       919.54  0            seeds\\n1            seeds\\n2     ...  \n",
       "2     True      1189.15  0            seeds\\n1            seeds\\n2     ...  \n",
       "3     True        55.96  0            seeds\\n1            seeds\\n2     ...  \n",
       "4    False         0.00  0            seeds\\n1            seeds\\n2     ...  \n",
       "5     True      1859.07  0            seeds\\n1            seeds\\n2     ...  \n",
       "6     True       961.26  0            seeds\\n1            seeds\\n2     ...  \n",
       "7     True       191.92  0            seeds\\n1            seeds\\n2     ...  \n",
       "8    False         0.00  0            seeds\\n1            seeds\\n2     ...  \n",
       "9     True       211.47  0            seeds\\n1            seeds\\n2     ...  "
      ]
     },
     "execution_count": 40,
     "metadata": {},
     "output_type": "execute_result"
    }
   ],
   "source": [
    "inventory.head(10)"
   ]
  }
 ],
 "metadata": {
  "colab": {
   "collapsed_sections": [],
   "name": "Pandas_Assignment.ipynb",
   "provenance": [],
   "toc_visible": true
  },
  "kernelspec": {
   "display_name": "Python 3",
   "language": "python",
   "name": "python3"
  },
  "language_info": {
   "codemirror_mode": {
    "name": "ipython",
    "version": 3
   },
   "file_extension": ".py",
   "mimetype": "text/x-python",
   "name": "python",
   "nbconvert_exporter": "python",
   "pygments_lexer": "ipython3",
   "version": "3.7.6"
  }
 },
 "nbformat": 4,
 "nbformat_minor": 1
}
